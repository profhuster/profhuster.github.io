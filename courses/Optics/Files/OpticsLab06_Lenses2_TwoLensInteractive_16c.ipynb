{
 "cells": [
  {
   "cell_type": "markdown",
   "metadata": {},
   "source": [
    "# ProfHuster's Ray Tracing Notebook\n",
    "This is a `Jupyter Notebook` that builds a two-lens system in the thin lens approximation. There is a checkbox for turning the ray tracing on and off.\n",
    "\n",
    "## How to Ray Trace\n",
    "### Using the Thin Lens Formula\n",
    "The first way you can ray trace is by using the thin lens formula,\n",
    "$\\frac{1}{d_o} + \\frac{1}{d_o} = \\frac{1}{f_1}$ \n",
    "for the first lens to find the position of the image made by that lens. You also must calculate the magnification of that first image as $m_1 = -\\frac{d_{i,1}}{d_o}$. Then you consider that image as the _object_ for the second lens and use the formula again to find the position of the image made by the second lens _relative to that second lens_. You also need to calculate the magnification of the second lens, $m_2 = -\\frac{d_{i,2}}{d_{o,2}}$. The final magnification of the image is $m = m_1 \\cdot m_2$.\n",
    "\n",
    "### Ray Tracing by Matrices\n",
    "A second way to find the properties of an optical system is to us the matrix approach. This is the approach actually used below. It is covered in your textbook. The matrix method has the limit of only working the in the paraxial (small angle) approximation. Actually the thin lens formula is also limited to this same approximation. An entire optical system, no matter how many lenses, is determined by a single 2x2 matrix. Once you compute the matrix, the physical lenses are conceptually replaced by two planes, and two focal points. Then ray tracing can be done using just these plane and points and ignoring the actual lenses.\n",
    "\n",
    "The _Front Focal Point_ (_FFP_) is the point in front of the first lens. Any ray passing through that point, exits the system parallel to the optical axis. To trace such a ray through the system, draw a line from the top of your object, through the front focal plane, then extend that line (possible in either direction) to the _First Principal Plane_ (_PP1_). From that intersection point, extend the line horizontally to the right until it leaves the system and continues as far as necessary. For virtual images, you may have to extend the line back toward the left.\n",
    "\n",
    "The _Back Focal Point_ (_BFP_) is the point after the system at which a ray entering the system parallel to the optical axis will cross the optical axis. To trace such a ray through the system, draw a line from the top of your object, parallel to the optic axis until it intersects the _Second Principal Plane_ (PP2). From that intersection point, draw a line through the _BFP_. Extend the line to the right until it leaves the system and continues as far as necessary. For virtual images, you may have to extend the line back toward the left. It will intersect the first ray drawn. The intersection is the system image of the object.\n",
    "\n",
    "You can also trace the _Nodal Ray_ from your object. Draw a line from the top of your object to the point where PP1 (the First Principal Plane) intersects the optical axis. Measure the angle of intersection. Then draw a second line from where _PP2_ intersects the optical axis with the same slope. You may have to extend the line in both directions. This line should for a three-way intersection with the first two rays you traced.\n",
    "\n",
    "Once you have these rays traced, you can measure where the image is, and the magnification of the image. \n",
    "\n",
    "**A Caution**: Sometimes the focal points and planes have an order that seems wrong. For example in the default example below, _PP2_ is **before** _PP1_. Have faith in the method; it works. Also be aware that the image may be **to the left** of the object. That is ok, too. It means the image is virtual. In fact, the only real images are ones that are to the right of the last lens.\n",
    "\n",
    "\n",
    "## The Program\n",
    "You can choose the focal lengths of the lenses from the dropdown menus. The available focal lengths are the same focal lengths you have available in the lab. There are four negative focal length lenses ranging from -100 to -25 mm, and 14 positive focal lenght lenses ranging from 25.4 to 1000 mm. \n",
    "\n",
    "The parameter `d` is the distance between the lenses. You can adjust it from 0 to 400 mm.\n",
    "\n",
    "The parameter `do` is the distance between the lenses. You can adjust it from 1 to 2000 mm.\n",
    "\n",
    "You can turn the Matrix-based ray tracing on and off with a checkbox. You can adjust the Thin Lens-based ray tracing with the slider. \n",
    "* `0` - the thin lens raytracing is off\n",
    "* `1` - only rays from the object to the first lens' image are traced\n",
    "* `2` - only rays from the first lens' image to the second len's image are traced\n",
    "* `3` - all the rays for the thin lens approach are traced\n",
    "\n",
    "These parameters are set in the code cell `# Imports and global variables`."
   ]
  },
  {
   "cell_type": "code",
   "execution_count": 2,
   "metadata": {
    "code_folding": [],
    "collapsed": true
   },
   "outputs": [],
   "source": [
    "# Imports and global variables \n",
    "%matplotlib inline\n",
    "from ipywidgets import interact\n",
    "import matplotlib.pyplot as plt\n",
    "import random as ran\n",
    "import numpy as np\n",
    "\n",
    "# Global variables\n",
    "gHeight = 25.0 # Height of lenses\n",
    "gImHt = 10.0   # Height of image arrow\n",
    "\n",
    "# Distance slider mins and maxs\n",
    "gDMin = 0\n",
    "gDMax = 250\n",
    "gDoMin = 1\n",
    "gDoMax = 800\n",
    "\n",
    "# The lenses are from the Thorlab LSB04 Optics Kit\n",
    "gFocalLengths = (-30, -50, -75, -100, 25.4, 35, 50, 75, 100, 125, 150, 200, 250, 300, 400, 500, 750, 1000)\n",
    "\n",
    "gFLArg = []\n",
    "for fl in gFocalLengths:\n",
    "    gFLArg.append(str(fl))\n",
    "    \n",
    "gFileNameBase = r\"TwoLens%s.png\""
   ]
  },
  {
   "cell_type": "code",
   "execution_count": 11,
   "metadata": {
    "code_folding": [],
    "collapsed": false
   },
   "outputs": [],
   "source": [
    "# Code to plot lens system and ray tracing\n",
    "gYLim = 15.0\n",
    "gKey1 = 'k^'\n",
    "gKey2 = 'kv'\n",
    "\n",
    "# wrap a plot generation function\n",
    "\n",
    "def plotSystem(f1='100', d=50, f2='200', do=200, MatrixRays=False, ThinLensRays=0):\n",
    "    \n",
    "    # Calculate the Matrix and planes\n",
    "    f1 = float(f1)\n",
    "    f2 = float(f2)\n",
    "    MLens1 = np.array([[1.,0],[-1./f1,1]])\n",
    "    MTrans = np.array([[1.,d],[0,1.]])\n",
    "    MLens2 = np.array([[1.,0],[-1./f2,1]])\n",
    "    MSystem = MLens2.dot(MTrans.dot(MLens1))\n",
    "    A = MSystem[0,0]\n",
    "    B = MSystem[0,1]\n",
    "    C = MSystem[1,0]\n",
    "    D = MSystem[1,1]\n",
    "    #print(\"ABCD = %f %f %f %f\" %(A,B,C,D))\n",
    "\n",
    "    # calculate the focal length\n",
    "    FL1 = 1.0 / C\n",
    "    FL2 = -FL1\n",
    "    FL_EFF = FL2\n",
    "    #print(\"FL1 = %f, FL2 = %f, FL-EFF = %f\" % \\\n",
    "    #  (FL1,FL2,FL_EFF))\n",
    "\n",
    "    # calculate the front and back focal planes\n",
    "    FFP = D/C\n",
    "    BFP = -A/C\n",
    "    xBFP = d + BFP\n",
    "    #print(\"FFP = %f, BFP = %f, xBFP = %f\" % \\\n",
    "    #  (FFP,BFP,xBFP))\n",
    "    \n",
    "    # Calculate the first and second principal planes\n",
    "    R_SYS = (D-1)/C\n",
    "    S_SYS = (1-A)/C\n",
    "    PP1 = R_SYS\n",
    "    PP2 = d + S_SYS\n",
    "    #print(\"R_SYS = %f, S_SYS = %f, PP1 = %f, PP2 = %f\" % \\\n",
    "    #  (R_SYS,S_SYS,PP1,PP2))\n",
    "    \n",
    "    # Calculate the image position and magnification\n",
    "    #print \"do, (do+PP1), ((do + PP1) - FL_EFF)\", do, (do-PP1), ((do + PP1) - FL_EFF)\n",
    "    di = ((do + PP1) * FL_EFF) / ((do + PP1) - FL_EFF)\n",
    "    xDi = di + PP2\n",
    "    m = -di / (do + PP1)\n",
    "    #print \"di = %f, xDi = %f, m = %f\" % (di, xDi, m)\n",
    "\n",
    "    # Drawing the figure takes a lot of code\n",
    "    # make figure and axes\n",
    "    fig = plt.figure(figsize=(15,5))\n",
    "    ax = fig.add_subplot(111)\n",
    "    \n",
    "    # Draw lens 1\n",
    "    ax.plot([0,0],[-gHeight/2,gHeight/2], 'k-', lw=4)\n",
    "    if f1 > 0:\n",
    "        (k1,k2) = (gKey1,gKey2)\n",
    "    else:\n",
    "        (k1,k2) = (gKey2,gKey1)\n",
    "    ax.plot([0],[gHeight/2],k1,markersize=10)\n",
    "    ax.plot([0],[-gHeight/2],k2,markersize=10)\n",
    "\n",
    "    # draw lens 2\n",
    "    ax.plot([d,d],[-gHeight/2,gHeight/2], 'k-', lw=4)\n",
    "    if f2 > 0:\n",
    "        (k1,k2) = (gKey1,gKey2)\n",
    "    else:\n",
    "        (k1,k2) = (gKey2,gKey1)\n",
    "    ax.plot([d],[gHeight/2],k1,markersize=10)\n",
    "    ax.plot([d],[-gHeight/2],k2,markersize=10)\n",
    "    \n",
    "    # Draw cardinal planes\n",
    "    ax.plot([FFP],[0], 'ro', lw=1, mec='r', ms=7)\n",
    "    ax.plot([xBFP],[0], 'ro', lw=1, mec='r', ms=7)\n",
    "    ax.plot([PP1,PP1],[-gHeight/2,gHeight/2], 'g-', lw=1)\n",
    "    ax.plot([PP2,PP2],[-gHeight/2,gHeight/2], 'g-', lw=1)\n",
    "    \n",
    "    # Label the cardinal planes\n",
    "    ax.text((FFP), 0.6*gHeight, \"FFP\", ha='center', weight='bold')\n",
    "    ax.text((xBFP), 0.6*gHeight, \"BFP\", ha='center', weight='bold')\n",
    "    ax.text((PP1), 0.6*gHeight, \"PP1\", ha='center', weight='bold')\n",
    "    ax.text((PP2), 0.6*gHeight, \"PP2\", ha='center', weight='bold')\n",
    "    \n",
    "    # Draw object and image\n",
    "    ax.plot([-do,-do],[0,gImHt], 'b-', lw=4)\n",
    "    ax.plot([-do],[gImHt], 'bo', markersize=10)\n",
    "    ax.plot([xDi,xDi],[0,m * gImHt], 'b-', lw=4, alpha=0.5)\n",
    "    ax.plot([xDi],[m * gImHt], 'bo', markersize=10, alpha=0.5)\n",
    "    txt = \"xi = %.0f\\ndi = %.0f\\nm = %.2f\" % (xDi, di, m)\n",
    "    if m > 0:\n",
    "        yTxt = -.5 * gHeight\n",
    "    else:\n",
    "        yTxt = 0.05 * gHeight\n",
    "    ax.text(xDi, yTxt, txt, ha='center', weight='bold')\n",
    "\n",
    "    yLim = max(gYLim, 1.1*abs(m * gImHt))\n",
    "    ax.set_ylim((-yLim, yLim))\n",
    "    xMin = np.min((-do,FFP,xBFP,PP1,PP2,d,xDi))\n",
    "    xMax = np.max((-do,FFP,xBFP,PP1,PP2,d,xDi))\n",
    "    xRange = xMax - xMin\n",
    "    xMin -= 0.05 * xRange\n",
    "    xMax += 0.05 * xRange\n",
    "    ax.set_xlim((xMin,xMax))\n",
    "    ax.set_xlabel(\"Position (mm)\")\n",
    "    ax.plot((xMin,xMax),(0,0), 'k-')\n",
    "    ax.set_ylabel(\"Height (mm)\")\n",
    "    Title = \"do=%.0f, FL=%.0f, FFP=%.0f, PP1=%.0f, PP2=%.0f, xBFF=%.0f, di=%.0f\\n \" % \\\n",
    "      (do, FL_EFF, FFP, PP1, PP2, xBFP, xDi)\n",
    "    ax.set_title(Title)\n",
    "    \n",
    "    if MatrixRays:\n",
    "        # Plot ray through the back focal point - blue\n",
    "        ax.plot((-do,PP2),(gImHt,gImHt), 'b--')\n",
    "        mRay = (gImHt - 0) / (PP2 - xBFP)\n",
    "        xRay = np.array((min(PP2,xBFP,xDi), max(PP2,xBFP,xDi)))\n",
    "        yRay = mRay * (xRay - xBFP)\n",
    "        ax.plot(xRay, yRay, 'b--')\n",
    "        \n",
    "        # Plot nodal ray - green\n",
    "        mRay = (gImHt - 0) / (-do - PP1)\n",
    "        xRay = np.array((min(-do,PP1), max(-do,PP1)))\n",
    "        yRay = mRay * (xRay - PP1)\n",
    "        ax.plot(xRay, yRay, 'g--')\n",
    "        xRay = np.array((min(PP2,xDi), max(PP2,xDi)))\n",
    "        yRay = mRay * (xRay - PP2)\n",
    "        ax.plot(xRay, yRay, 'g--')\n",
    "        \n",
    "        # Plot ray through front focal point - red\n",
    "        mRay = (gImHt - 0) / (-do - FFP)\n",
    "        xRay = np.array((min(-do,FFP,PP1),max(-do,FFP,PP1)))\n",
    "        yRay = mRay * (xRay - FFP)\n",
    "        ax.plot(xRay, yRay, 'r--')\n",
    "        xRay = np.array((min(PP1,xDi),max(PP1,xDi)))\n",
    "        yRay = mRay * (PP1 - FFP)\n",
    "        ax.plot(xRay,(yRay,yRay), 'r--')\n",
    "    \n",
    "    if ThinLensRays:\n",
    "        # Plot focal points of the lenses\n",
    "        xFP = np.array([-f1, f1, d-f2, d+f2])\n",
    "        ax.plot(xFP, np.zeros_like(xFP), 'ro', color='w', mec='k', ms=5)\n",
    "        \n",
    "        # Calculate object and image positions\n",
    "        di1 = do * f1 / (do - f1)\n",
    "        m1 = -di1 / do\n",
    "        #print \"di1, m1 = \", di1, m1\n",
    "        ax.plot([di1,di1],[0,m1 * gImHt], 'g-', lw=4, alpha=0.5)\n",
    "        ax.plot([di1],[m1 * gImHt], 'go', markersize=10, alpha=0.5)\n",
    "        imgStr = \"di1 = %.0f\\nm = %.2f\" % (di1, -di1/do)\n",
    "        ax.text(di1, 0.6*gHeight, imgStr, ha='center', weight='bold', color='green')\n",
    "\n",
    "        do2 = d - di1\n",
    "        xDo2 = do2 + d\n",
    "        di2 = do2 * f2 / (do2 - f2)\n",
    "        m2 = -di2 / do2\n",
    "        #print \"di2, m2, xDo2 = \", di2, m2, xDo2\n",
    "\n",
    "        xMin = np.min((-do,FFP,xBFP,PP1,PP2,d,xDi, di1, -f1, d+f2))\n",
    "        xMax = np.max((-do,FFP,xBFP,PP1,PP2,d,xDi, di1, -f1, d+f2))\n",
    "        xRange = xMax - xMin\n",
    "        xMin -= 0.05 * xRange\n",
    "        xMax += 0.05 * xRange\n",
    "        ax.set_xlim((xMin,xMax))\n",
    "\n",
    "        # Plot traced rays\n",
    "        if ThinLensRays in (1,3):\n",
    "            # Through back focal point of lens1\n",
    "            xRay = np.array([min(0, -do), max(0, -do)])\n",
    "            ax.plot(xRay, [gImHt,gImHt], 'b--')\n",
    "            mRay = (gImHt - 0) / (0 - f1)\n",
    "            xRay = np.array([min(0, di1), max(0, di1)])\n",
    "            yRay = mRay * (xRay - f1)\n",
    "            ax.plot(xRay, yRay, 'b--')\n",
    "\n",
    "            # Through front focal point of lens1\n",
    "            mRay = (gImHt - 0) / (-do - (-f1))\n",
    "            xRay = np.array([min(-do,-f1,0), max(-do,-f1,0)])\n",
    "            yRay = mRay * (xRay - (-f1))\n",
    "            ax.plot(xRay, yRay, 'r--')\n",
    "            xRay = np.array([min(0, di1), max(0, di1)])\n",
    "            yRay = mRay * (0 - (-f1))\n",
    "            ax.plot(xRay, [yRay,yRay], 'r--')\n",
    "        \n",
    "            # Through node\n",
    "            mRay = (gImHt - 0) / (-do - 0)\n",
    "            xRay = np.array([min(-do,0,di1), max(-do,0,di1)])\n",
    "            yRay = mRay * (xRay - 0)\n",
    "            ax.plot(xRay, yRay, 'g--')\n",
    "        \n",
    "        # Plot rays from first image\n",
    "        if ThinLensRays in (2,3):\n",
    "            # Through back focal point of lens2\n",
    "            xRay = np.array([min(di1, d), max(di1, d)])\n",
    "            yRay = np.array([m1*gImHt, m1*gImHt])\n",
    "            ax.plot(xRay, yRay, 'c--')\n",
    "            mRay = (m1*gImHt - 0) / (d - (d+f2))\n",
    "            xRay = np.array([min(d,d+f2,xDi), max(d,d+f2,xDi)])\n",
    "            yRay = mRay * (xRay - (d+f2))\n",
    "            ax.plot(xRay, yRay, 'c--')\n",
    "\n",
    "            # Through front focal point of lens2\n",
    "            mRay = (m1*gImHt - 0) / (di1 - (d-f2))\n",
    "            xRay = np.array([min(di1,(d-f2),d), max(di1,(d-f2),d)])\n",
    "            yRay = mRay * (xRay - (d-f2))\n",
    "            ax.plot(xRay, yRay, 'm--')\n",
    "            xRay = np.array([min(d, xDi), max(d, xDi)])\n",
    "            yRay = mRay * (d - (d-f2))\n",
    "            ax.plot(xRay, [yRay,yRay], 'm--')\n",
    "        \n",
    "            # Through node lens2\n",
    "            mRay = (m1*gImHt - 0) / (di1 - d)\n",
    "            xRay = np.array([min(di1,d,xDi), max(di1,d,xDi)])\n",
    "            yRay = mRay * (xRay - d)\n",
    "            ax.plot(xRay, yRay, 'y--')\n",
    "        \n",
    "    plt.show()\n"
   ]
  },
  {
   "cell_type": "code",
   "execution_count": 12,
   "metadata": {
    "code_folding": [],
    "collapsed": false
   },
   "outputs": [
    {
     "data": {
      "image/png": "[encoded data removed]",
      "text/plain": [
       "<matplotlib.figure.Figure at 0x110150550>"
      ]
     },
     "metadata": {},
     "output_type": "display_data"
    }
   ],
   "source": [
    "# Interactive call\n",
    "interact(plotSystem, do=(gDoMin,gDoMax), f1=gFLArg, d=(gDMin,gDMax), f2=gFLArg, MatrixRays=False, \\\n",
    "         ThinLensRays=(0,3));"
   ]
  },
  {
   "cell_type": "code",
   "execution_count": null,
   "metadata": {
    "collapsed": true
   },
   "outputs": [],
   "source": []
  }
 ],
 "metadata": {
  "anaconda-cloud": {},
  "kernelspec": {
   "display_name": "Python [Root]",
   "language": "python",
   "name": "Python [Root]"
  },
  "language_info": {
   "codemirror_mode": {
    "name": "ipython",
    "version": 2
   },
   "file_extension": ".py",
   "mimetype": "text/x-python",
   "name": "python",
   "nbconvert_exporter": "python",
   "pygments_lexer": "ipython2",
   "version": "2.7.12"
  },
  "widgets": {
   "state": {
    "25715c146213466b8f01420b7fe1f81b": {
     "views": []
    },
    "6e173a7bb8d74cc59b085a7aa3d92400": {
     "views": [
      {
       "cell": {
        "cell_type": "code",
        "execution_count": 2,
        "metadata": {
         "collapsed": false,
         "trusted": true
        },
        "outputs": [
         {
          "data": {
           "image/png": "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",
           "text/html": "<img src=data:image/png;base64,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 class=\"jupyter-widget\">\n<script type=\"application/vnd.jupyter-embedded-widgets\">[{},{\"layout\":\"IPY_MODEL_9d635cf02f4e478197cfb6c767454fd6\"}]</script>"
          },
          "metadata": {
           "isWidgetSnapshot": true
          },
          "output_type": "display_data"
         }
        ],
        "source": "Controller()"
       },
       "cell_index": 3,
       "root": true
      }
     ]
    },
    "8b3ccb5ea8ec42548749a1446a503653": {
     "views": [
      {
       "cell": {
        "cell_type": "code",
        "execution_count": 3,
        "metadata": {
         "collapsed": false,
         "trusted": true
        },
        "outputs": [
         {
          "data": {
           "image/png": "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",
           "text/html": "<img src=data:image/png;base64,iVBORw0KGgoAAAANSUhEUgAAA9oAAAAjCAYAAABrYnILAAANlElEQVR4Xu3dB5AuS1nGcXJQVFAUUdFbiIqoIChIlAtmRCmCEdGLSlKCAiIS9KKIgmIZwZIoOSkSRFGRI8lIFCiQdMEAmBWQrL4/mKlatjbz7T3n1P131VOz385MT/d/+qvap9+3e89/vkoEIhCBCEQgAhGIQAQiEIEIRCACGyNw/o3VVEURiEAEIhCBCEQgAhGIQAQiEIEInC+j3SCIQAQiEIEIRCACEYhABCIQgQhskEBGe4MwqyoCEYhABCIQgQhEIAIRiEAEIpDRbgxEIAIRiEAEIhCBCEQgAhGIQAQ2SCCjvUGYVRWBCEQgAhGIQAQiEIEIRCACEchoNwYiEIEIRCACEYhABCIQgQhEIAIbJJDR3iDMqopABCIQgQhEIAIRiEAEIhCBCGS0GwMRiEAEIhCBCEQgAhGIQAQiEIENEshobxBmVUUgAhGIQAQiEIEIRCACEYhABDLajYEIRCACEYhABCIQgQhEIAIRiMAGCWS0NwjzGKv64qn7p0avHP3cMT5nt6q/YU6cPfqx0YtOwvNPp0feYhr7k6NvH73udGp4bY1ABCIQgQhEIAIRiEAENkNgJ6P9eVP1T4w+NHr36EKjvx99cPSQzTy2Wg5J4LJz/e+MnjO6/yHv3cTlV5xKXj76ulFGe2+i15jTfzkyOZLR3sToq44IRCACEYhABCIQgQicZgS2G+0vm/Y/e/Rto7/a0pefXX6+9ynUvztNW37tFGrPcTflCfOA154ko61v/zQSpc1o7/+mPzCXXPkIRts9lxr92fKI7Z/3f3JXRCACEYhABCIQgQhEIAInncB2o/2KadEfje6xrWUXmM/Shh940lv80QYwIC8cfcop0p5zoxmPW4zbyYho698/jL5zlNHe/22/by758uV97X/1R68wlhnsHxmd2OHzQevpughEIAIRiEAEIhCBCETgJBPYarSvO21hXh1fvEO7RNr+Y3TJ0X1G7x191YgBfMzoKqP7jkRdLzy63ejpox/Y55xHffroh0afutR5mzn+7YjBv+tSn3XCorq/PbJO+UdHjP8fjNYI4A7N/phfMT+3HL1ped6/zvG5Sz2i9u8fieq/efTjo6uO7rVcr+93Hr169N2jXx/daDmukf6rzedvGX3J0uZbz9EzTVz88Qgv9zxxdIfR/45kD1xvJFVfirbP7xkp9xx90ujTRtcfPX50FKO9U9/2el+e/YmjB43eMbr86Gajbx7tZ7S9b5wsP/iZ0eeO8PmtpQ4s/IyvSR2ZCSLlXzCSmv4XS7+1wbp0yxecf9bS9++d42VGXznC5WtdeMByWA7fNPU+baTP3zX696Vt3oU2vWuX5zLaxtlPj3xvvEffke8fPXwkvfwNo/uNvmd06ZEx/4uj3x8ZK5ZsbP38qPl88+XeT57jZ45uO/rv0e1HdxvdZKn/s+donL1sl/b16whEIAIRiEAEIhCBCETgGAlsNdoMz6+OPmf0j3s8k3l23fNH/qB/4+jM0UtHTx0xyz84kj7LsF5hZI33bufeMueYkB8eMS4PGDHVXzFisv9n9Jujbx0xPZ+wtNF9h93M7fVzj6is9cZMF8PD3DHDvzc6Y2Q9tDRpEwoME3N/iZGJg/8a6ROzb8MrfZNiz0z93+iho1uNFJMVq2l8wfzM1JtM8Iw/HTGk+v2fI88/Z6R9jOgzRt8x+poRM2XCgcHXlsMa7d36xszv9U70xcSLZ3rP3uFXj/Yz2rj9y8gkyC8s7cfammVG1XhRpwkakwiMon6aPMFxjZy7FgOm3Zg6a2Tc4WrCQsHCpM9BylE5MMtXHzHdivfDDL9mj4caN8bxY0fMNaNtEsUEz7+NjO+/Weo1UcRoK+eMzhqd2OGzSRzG+4bLORM9JkBuPNI33z8TOyZjvDuTXd+3XNshAhGIQAQiEIEIRCACETgXCWw1qkztg0ciZe/cpQ1M+NtGzC4zoTCoTBFD8YjR20er+RENvenoz/c4x3gxpOt668+an790JDLMeH7jyDXKGaNzluNhjbY2M5frJlUiiaLiDP3FRiKkNrHS3ieP1gmH35ifRe/vvrThr+fI8LiGAf7w6POXekwwME6KPoiCS7m37v0PR8yR8qTlyPQzmYz3dUaMt6wAZolxEvF85nLtUVPH9+rbbu8Ld++OAWSElcOkjotCX3NkcuCCI2NGdNuECbMpAitqq+CriPAqzLzJHBkNTLXIuPsYeJMVTDx+ot34//Ny336Ho3Awbj9jdM5IBoA2PnJkrO9VtqaO+44Zv75bNhPUB2Oa0TbmjIuDGO2HzXVMOtOuMNcmjGxeaJIHY+ZaZgS+xjFDX4lABCIQgQhEIAIRiEAEzmUCW422yJj03GuNGN+dypnzS5Fsqatr2iwDYc20yLC0WAZtNdpbzdlu55hYkb8r7fBAUXHp29ujh2fM7w5rtFX/kpG0baaeUWNK1o3epAKLOjK76r7cSPuZY8ZpNdrY/PJoNctMjrRnabsMt6j19rLdaOMjRZ/h0j9pxupTL1PJaHum83grRzXa7t2tb7u9E30Shb/IyESCclSj7d4/WfTzc2Q6GUG/U4w57/8py+eth7Pmg/Elk8CkhOwB0WxmV0q6aLeU6oOWw3JYo/cmJCwr8Fzm2Dvaq2xfo+39Gzci8Ec12ifmXpMvUsSVNRvAOHrrSMbBarRN+OB1mLT6gzLsughEIAIRiEAEIhCBCERgHwJbjTZTJdoonVh0e3sR+RWhdY2Ua5Fd5ZdG7r3j6ChGWyo2kyBiKAKqqF/Ej+GVLsxsKaJ3zDFDcRSjzSQxZ9ZlWwPLVDOV0nFFXEWV/d6/Mjus0dZmRpLpZsoUUV0Ga7vRXtfuil6LHktBN3HB2DFxTLXopfPrv1Q7qtHeq2+7vS/G9lUja82tuVc+HqPNtP/KyL8o2260rdcWrWaC18JMS9+3hME515iIsX5ear/JHCncOHpPsij2K0fhsBpt2QmyHWQx+G5I99+rbDfa6jGJYumDCLxsDfUdJqJtrFqTbp28YrLL91EGiO9DRnu/EdD5CEQgAhGIQAQiEIEInEsEtq9xtg6ambDOmClYizRUxnbdlZzZtpmXYiMy67sZMxE/pmfdHIw5s4mUtb57nTsx50UobZDFpFx7JGWYcRUhFgFd6/Jc5oIJs3ZXai+zepAiIioyzcSKlqvDGnBRQutZmWUbXUnnZYL0mQHXpjWSuFNE+wuXOnExQWBt8jopIOLKaL9ytHLBzMSECQpR9i8aSW32XGt7TQTov4gk86+9zxvhrx0mGw5a9uqbFPid3pc2eZ9/N7I5m7XTfrau3PrxNcq9Wxukjhsz0sPdy2iaqMGR0bYeXx+VG4ykzptQkTJuLbRJBevCpZ1bD81Mq0u6tPchHV+Ryu19MeX7laNwMG7XYuM278F43q+sY9hmZGeMLK8wtow5KfEi5MaFd2yXcZsBmmjB2HfA5IYxvfWz9HJjwEQOUy2DxAZqJih8d0S1jSeTRCLa2mlZgv0Fzl7kvVQiEIEIRCACEYhABCIQgWMmsNNmYoyLjb6safbHvvXa0pqtB1Ws4V7X9orsWUfLIIk4ilgyI9awioZKBxaRlRpMO51jPkUt1Sltnbk5a2Qt7sWX+5k2xs/vRcC1mynVFkaQITlIEa1nXEUGmRKGyIZbTDATYxfwu4xEX0VhGWb3SG9nxEVTf3f0nBGzp11Sy5k/EsG25pgxtGGa6Kc6Ge2Ljtb1uIwUHoykuhhImQFMlOipNH6mTMTZjuSuYbTwlup+0P7OpR8x/Dv1zfN2e1/eydoH/3bK5Iu+Wi9uJ3IR770KQ2fMMJX6ZJKF6dQvPPFgMNdN90ym2N3de2U+RW+lzavD+BGxdY8osHX2TKpxYP34uu59nyYdmcNqTm2GZ+KF4d6v6I/UbZMy+oT1GnW/xfxsrDtnnNk0TsbGo0e+dza/MxFhQmP7ZxMdxqGx6ft59shEEWai+yahjBWTFsaiyLnvnOuNI+2vRCACEYhABCIQgQhEIALHTOCwu3Yfc3OOtXqRb5FxhkSxkRajLpV83WDquBqwPXX8uJ5zqtS7dTO0U6VNH2877OTNAJs4qUQgAhGIQAQiEIEIRCACEdiVwHnJaNv8TLSY2Rbl03fptdKOTxzzGJH+LJq97qx+zI876dWLOouoimifzkXmgwiyjAbZFSLTlQhEIAIRiEAEIhCBCEQgAnsSOC8ZbWnf0p6tbbWO1Vpha8DXtcLHNVS+fiqW6iw9XfR8/Vdlx/W8k1mvVHipz9K9pd3739g27Dpdi3Xl1o9Lsbceer+16adrP2t3BCIQgQhEIAIRiEAEIrBBAuclo71BbFUVgQhEIAIRiEAEIhCBCEQgAhHYmUBGu5ERgQhEIAIRiEAEIhCBCEQgAhHYIIGM9gZhVlUEIhCBCEQgAhGIQAQiEIEIRCCj3RiIQAQiEIEIRCACEYhABCIQgQhskEBGe4MwqyoCEYhABCIQgQhEIAIRiEAEIpDRbgxEIAIRiEAEIhCBCEQgAhGIQAQ2SCCjvUGYVRWBCEQgAhGIQAQiEIEIRCACEchoNwYiEIEIRCACEYhABCIQgQhEIAIbJJDR3iDMqopABCIQgQhEIAIRiEAEIhCBCGS0GwMRiEAEIhCBCEQgAhGIQAQiEIENEvh/GYL+Ql1euhUAAAAASUVORK5CYII= class=\"jupyter-widget\">\n<script type=\"application/vnd.jupyter-embedded-widgets\">[{},{\"index\":1,\"layout\":\"IPY_MODEL_25715c146213466b8f01420b7fe1f81b\"}]</script>"
          },
          "metadata": {
           "isWidgetSnapshot": true
          },
          "output_type": "display_data"
         }
        ],
        "source": "Controller(index=1)"
       },
       "cell_index": 5,
       "root": true
      }
     ]
    },
    "9d635cf02f4e478197cfb6c767454fd6": {
     "views": []
    }
   },
   "version": "0.0.1"
  }
 },
 "nbformat": 4,
 "nbformat_minor": 1
}
